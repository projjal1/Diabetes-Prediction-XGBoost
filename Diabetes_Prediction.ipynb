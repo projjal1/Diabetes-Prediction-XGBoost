{
  "nbformat": 4,
  "nbformat_minor": 0,
  "metadata": {
    "colab": {
      "name": "Diabetes-Prediction.ipynb",
      "provenance": [],
      "authorship_tag": "ABX9TyMeEgBoa59+YTHIjXuHlkr4",
      "include_colab_link": true
    },
    "kernelspec": {
      "name": "python3",
      "display_name": "Python 3"
    }
  },
  "cells": [
    {
      "cell_type": "markdown",
      "metadata": {
        "id": "view-in-github",
        "colab_type": "text"
      },
      "source": [
        "<a href=\"https://colab.research.google.com/github/projjal1/Diabetes-Prediction-XGBoost/blob/main/Diabetes_Prediction.ipynb\" target=\"_parent\"><img src=\"https://colab.research.google.com/assets/colab-badge.svg\" alt=\"Open In Colab\"/></a>"
      ]
    },
    {
      "cell_type": "markdown",
      "metadata": {
        "id": "-SEfn_gkcGDR"
      },
      "source": [
        "Here we will use XgBoost state-of-art machine learning algorithm"
      ]
    },
    {
      "cell_type": "code",
      "metadata": {
        "id": "m5VzRTnxbZgS",
        "outputId": "661cf7ff-37ee-4ac8-ee93-0db1d167cc4f",
        "colab": {
          "base_uri": "https://localhost:8080/"
        }
      },
      "source": [
        "!pip install xgboost"
      ],
      "execution_count": 2,
      "outputs": [
        {
          "output_type": "stream",
          "text": [
            "Requirement already satisfied: xgboost in /usr/local/lib/python3.6/dist-packages (0.90)\n",
            "Requirement already satisfied: numpy in /usr/local/lib/python3.6/dist-packages (from xgboost) (1.18.5)\n",
            "Requirement already satisfied: scipy in /usr/local/lib/python3.6/dist-packages (from xgboost) (1.4.1)\n"
          ],
          "name": "stdout"
        }
      ]
    },
    {
      "cell_type": "markdown",
      "metadata": {
        "id": "HD2oyWbOcQXb"
      },
      "source": [
        "Importing all the required modules"
      ]
    },
    {
      "cell_type": "code",
      "metadata": {
        "id": "ecAcsyRncMGJ"
      },
      "source": [
        "from numpy import loadtxt\n",
        "from xgboost import XGBClassifier\n",
        "from sklearn.model_selection import train_test_split\n",
        "from sklearn.metrics import accuracy_score"
      ],
      "execution_count": 3,
      "outputs": []
    },
    {
      "cell_type": "markdown",
      "metadata": {
        "id": "oKVzKsoBcUnT"
      },
      "source": [
        "Loading the dataset"
      ]
    },
    {
      "cell_type": "code",
      "metadata": {
        "id": "rygtxd4FcTGa"
      },
      "source": [
        "dataset = loadtxt('https://raw.githubusercontent.com/projjal1/Diabetes-Prediction-XGBoost/main/pima-indians-diabetes.data.csv', delimiter=\",\")"
      ],
      "execution_count": 4,
      "outputs": []
    },
    {
      "cell_type": "markdown",
      "metadata": {
        "id": "N3EVLd1jcdnS"
      },
      "source": [
        "Lets look at the top 2 rows of the dataset"
      ]
    },
    {
      "cell_type": "code",
      "metadata": {
        "id": "rdRpgemfcYzL",
        "outputId": "887418c1-547b-4194-965e-e22e6f728b9d",
        "colab": {
          "base_uri": "https://localhost:8080/"
        }
      },
      "source": [
        "dataset[:2]"
      ],
      "execution_count": 6,
      "outputs": [
        {
          "output_type": "execute_result",
          "data": {
            "text/plain": [
              "array([[  6.   , 148.   ,  72.   ,  35.   ,   0.   ,  33.6  ,   0.627,\n",
              "         50.   ,   1.   ],\n",
              "       [  1.   ,  85.   ,  66.   ,  29.   ,   0.   ,  26.6  ,   0.351,\n",
              "         31.   ,   0.   ]])"
            ]
          },
          "metadata": {
            "tags": []
          },
          "execution_count": 6
        }
      ]
    },
    {
      "cell_type": "markdown",
      "metadata": {
        "id": "OBa6AZILcYc6"
      },
      "source": [
        "Lets extract the labels and the columns from the dataset for training"
      ]
    },
    {
      "cell_type": "code",
      "metadata": {
        "id": "4AKhQY3wchia"
      },
      "source": [
        "X = dataset[:,0:8]\n",
        "Y = dataset[:,8]"
      ],
      "execution_count": 7,
      "outputs": []
    },
    {
      "cell_type": "markdown",
      "metadata": {
        "id": "SPeOK7dicu2u"
      },
      "source": [
        "Lets split the dataset into training and testing set"
      ]
    },
    {
      "cell_type": "code",
      "metadata": {
        "id": "HPrAAXENctoN"
      },
      "source": [
        "seed = 7\n",
        "test_size = 0.33\n",
        "X_train, X_test, y_train, y_test = train_test_split(X, Y, test_size=test_size, random_state=seed)"
      ],
      "execution_count": 8,
      "outputs": []
    },
    {
      "cell_type": "markdown",
      "metadata": {
        "id": "EWtrSLUZc1t1"
      },
      "source": [
        "Lets import the model and start to train"
      ]
    },
    {
      "cell_type": "code",
      "metadata": {
        "id": "vX9Pb0SVc8lF",
        "outputId": "5ba19568-8219-4117-d211-076dfb8fe432",
        "colab": {
          "base_uri": "https://localhost:8080/"
        }
      },
      "source": [
        "model = XGBClassifier(learning_rate=0.01)\n",
        "model.fit(X_train, y_train)"
      ],
      "execution_count": 19,
      "outputs": [
        {
          "output_type": "execute_result",
          "data": {
            "text/plain": [
              "XGBClassifier(base_score=0.5, booster='gbtree', colsample_bylevel=1,\n",
              "              colsample_bynode=1, colsample_bytree=1, gamma=0,\n",
              "              learning_rate=0.01, max_delta_step=0, max_depth=3,\n",
              "              min_child_weight=1, missing=None, n_estimators=100, n_jobs=1,\n",
              "              nthread=None, objective='binary:logistic', random_state=0,\n",
              "              reg_alpha=0, reg_lambda=1, scale_pos_weight=1, seed=None,\n",
              "              silent=None, subsample=1, verbosity=1)"
            ]
          },
          "metadata": {
            "tags": []
          },
          "execution_count": 19
        }
      ]
    },
    {
      "cell_type": "markdown",
      "metadata": {
        "id": "LpuANSc7dBJ2"
      },
      "source": [
        "Make predictions on the test dataset"
      ]
    },
    {
      "cell_type": "code",
      "metadata": {
        "id": "CNu14er2dA01"
      },
      "source": [
        "y_pred = model.predict(X_test)\n",
        "predictions = [round(value) for value in y_pred]"
      ],
      "execution_count": 20,
      "outputs": []
    },
    {
      "cell_type": "markdown",
      "metadata": {
        "id": "6iv3N4NpdGSH"
      },
      "source": [
        "Perform metrics on the predictions and figure out the accuracy"
      ]
    },
    {
      "cell_type": "code",
      "metadata": {
        "id": "4nEnOyTUc_X8",
        "outputId": "8238b4f5-b4ae-4294-83f0-849b3cbd2cae",
        "colab": {
          "base_uri": "https://localhost:8080/"
        }
      },
      "source": [
        "accuracy = accuracy_score(y_test, predictions)\n",
        "print(\"Accuracy: %.2f%%\" % (accuracy * 100.0))"
      ],
      "execution_count": 21,
      "outputs": [
        {
          "output_type": "stream",
          "text": [
            "Accuracy: 76.38%\n"
          ],
          "name": "stdout"
        }
      ]
    }
  ]
}